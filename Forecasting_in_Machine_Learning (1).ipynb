{
  "nbformat": 4,
  "nbformat_minor": 0,
  "metadata": {
    "colab": {
      "provenance": []
    },
    "kernelspec": {
      "name": "python3",
      "display_name": "Python 3"
    },
    "language_info": {
      "name": "python"
    }
  },
  "cells": [
    {
      "cell_type": "markdown",
      "source": [
        "Auto Regressive Model"
      ],
      "metadata": {
        "id": "DsYlz4R5cDCU"
      }
    },
    {
      "cell_type": "code",
      "execution_count": null,
      "metadata": {
        "id": "jCuueRhycCX3"
      },
      "outputs": [],
      "source": [
        "import numpy as np\n",
        "import pandas as pd\n",
        "import matplotlib.pyplot as plt"
      ]
    },
    {
      "cell_type": "code",
      "source": [
        "from statsmodels.tsa.ar_model import AutoReg"
      ],
      "metadata": {
        "id": "vXJyHlKccKXK"
      },
      "execution_count": null,
      "outputs": []
    },
    {
      "cell_type": "code",
      "source": [
        "#creating a Linear data\n",
        "data=[10,12,14,16,20,20,22]"
      ],
      "metadata": {
        "id": "V3KLzGoYcW3n"
      },
      "execution_count": null,
      "outputs": []
    },
    {
      "cell_type": "code",
      "source": [
        "plt.plot(data)"
      ],
      "metadata": {
        "colab": {
          "base_uri": "https://localhost:8080/",
          "height": 448
        },
        "id": "XYboi8vjcqo4",
        "outputId": "b4edf8fd-78ba-484f-8446-bf722767e6bf"
      },
      "execution_count": null,
      "outputs": [
        {
          "output_type": "execute_result",
          "data": {
            "text/plain": [
              "[<matplotlib.lines.Line2D at 0x7c2e3172fc40>]"
            ]
          },
          "metadata": {},
          "execution_count": 7
        },
        {
          "output_type": "display_data",
          "data": {
            "text/plain": [
              "<Figure size 640x480 with 1 Axes>"
            ],
            "image/png": "[encoded data removed]"
          },
          "metadata": {}
        }
      ]
    },
    {
      "cell_type": "code",
      "source": [
        "  ar_model=AutoReg(data,lags=1)\n",
        "  ar_model_fit=ar_model.fit()"
      ],
      "metadata": {
        "id": "L6FO5gAxcvSD"
      },
      "execution_count": null,
      "outputs": []
    },
    {
      "cell_type": "code",
      "source": [
        "forecasting=ar_model_fit.predict(8,10)"
      ],
      "metadata": {
        "id": "zbdrNfqheL5i"
      },
      "execution_count": null,
      "outputs": []
    },
    {
      "cell_type": "code",
      "source": [
        "print(forecasting)"
      ],
      "metadata": {
        "colab": {
          "base_uri": "https://localhost:8080/"
        },
        "id": "dTXl-HBPelqe",
        "outputId": "ef065e76-b433-4579-835f-204f07963424"
      },
      "execution_count": null,
      "outputs": [
        {
          "output_type": "stream",
          "name": "stdout",
          "text": [
            "[24.62109375 25.75036621 26.77376938]\n"
          ]
        }
      ]
    },
    {
      "cell_type": "code",
      "source": [
        "forecasting_list=forecasting.tolist()\n",
        "combined_list=data+forecasting_list"
      ],
      "metadata": {
        "id": "_Dh-wM7Gepd5"
      },
      "execution_count": null,
      "outputs": []
    },
    {
      "cell_type": "code",
      "source": [
        "print(combined_list)"
      ],
      "metadata": {
        "colab": {
          "base_uri": "https://localhost:8080/"
        },
        "id": "CXcRxl74gG9t",
        "outputId": "ff0c26f4-3888-4e53-a6b6-0809d87ea27e"
      },
      "execution_count": null,
      "outputs": [
        {
          "output_type": "stream",
          "name": "stdout",
          "text": [
            "[10, 12, 14, 16, 20, 20, 22, 24.621093749999964, 25.750366210937447, 26.77376937866204]\n"
          ]
        }
      ]
    },
    {
      "cell_type": "code",
      "source": [],
      "metadata": {
        "id": "mHHHVsR-gJCZ"
      },
      "execution_count": null,
      "outputs": []
    }
  ]
}